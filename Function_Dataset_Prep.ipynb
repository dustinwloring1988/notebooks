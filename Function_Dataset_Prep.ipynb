{
  "nbformat": 4,
  "nbformat_minor": 0,
  "metadata": {
    "colab": {
      "provenance": []
    },
    "kernelspec": {
      "name": "python3",
      "display_name": "Python 3"
    },
    "language_info": {
      "name": "python"
    }
  },
  "cells": [
    {
      "cell_type": "code",
      "source": [
        "!pip install -q -U datasets"
      ],
      "metadata": {
        "colab": {
          "base_uri": "https://localhost:8080/"
        },
        "id": "liy5Uw_4RqDb",
        "outputId": "e4a59b6e-2b16-4a10-a381-dd49a52182aa"
      },
      "execution_count": null,
      "outputs": [
        {
          "output_type": "stream",
          "name": "stdout",
          "text": [
            "\u001b[2K     \u001b[90m━━━━━━━━━━━━━━━━━━━━━━━━━━━━━━━━━━━━━━━━\u001b[0m \u001b[32m507.1/507.1 kB\u001b[0m \u001b[31m5.5 MB/s\u001b[0m eta \u001b[36m0:00:00\u001b[0m\n",
            "\u001b[2K     \u001b[90m━━━━━━━━━━━━━━━━━━━━━━━━━━━━━━━━━━━━━━━━\u001b[0m \u001b[32m115.3/115.3 kB\u001b[0m \u001b[31m9.9 MB/s\u001b[0m eta \u001b[36m0:00:00\u001b[0m\n",
            "\u001b[2K     \u001b[90m━━━━━━━━━━━━━━━━━━━━━━━━━━━━━━━━━━━━━━━━\u001b[0m \u001b[32m134.8/134.8 kB\u001b[0m \u001b[31m11.4 MB/s\u001b[0m eta \u001b[36m0:00:00\u001b[0m\n",
            "\u001b[?25h"
          ]
        }
      ]
    },
    {
      "cell_type": "code",
      "source": [
        "from datasets import load_dataset\n",
        "import random\n",
        "from tqdm import tqdm"
      ],
      "metadata": {
        "id": "j8wQVNwMRxdq"
      },
      "execution_count": null,
      "outputs": []
    },
    {
      "cell_type": "code",
      "source": [
        "# Required when training models/data that are gated on HuggingFace, and required for pushing models to HuggingFace\n",
        "!pip install huggingface_hub\n",
        "from huggingface_hub import notebook_login\n",
        "\n",
        "notebook_login()"
      ],
      "metadata": {
        "id": "QJeRD8A9RzRG"
      },
      "execution_count": null,
      "outputs": []
    },
    {
      "cell_type": "code",
      "source": [
        "# Load the dataset\n",
        "dataset = load_dataset(\"heegyu/glaive-function-calling-v2-formatted\")\n",
        "\n",
        "# Remove the 'source' column from all splits\n",
        "# dataset_no_source = dataset.remove_columns(\"source\")\n",
        "dataset_no_source = dataset\n",
        "\n",
        "# Specify the repository name\n",
        "repo_name = \"AIGym/Function-Calling-V1\"\n",
        "\n",
        "# Save the modified dataset to the Hugging Face model hub\n",
        "dataset_no_source.push_to_hub(repo_name)"
      ],
      "metadata": {
        "id": "Dt29FsLiRs_k"
      },
      "execution_count": null,
      "outputs": []
    }
  ]
}